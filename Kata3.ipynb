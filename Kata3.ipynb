{
 "cells": [
  {
   "cell_type": "markdown",
   "metadata": {},
   "source": [
    "Tomada de [Cuso Introductorio a Python](https://github.com/LaunchX-InnovaccionVirtual/CursoIntroPython  \"Curso Github\") OnBoarding SpaceX Modulo 3."
   ]
  },
  {
   "cell_type": "code",
   "execution_count": 1,
   "metadata": {},
   "outputs": [
    {
     "name": "stdout",
     "output_type": "stream",
     "text": [
      "¡Alerta! ¡Un asteroide se acerca a velocidades peligrosas!\n"
     ]
    }
   ],
   "source": [
    "asteroide = 49\n",
    "if asteroide > 25:\n",
    "    print('¡Alerta! ¡Un asteroide se acerca a velocidades peligrosas!')\n",
    "else:\n",
    "    print('¡Sigue con tu día!')"
   ]
  },
  {
   "cell_type": "code",
   "execution_count": 2,
   "metadata": {},
   "outputs": [
    {
     "name": "stdout",
     "output_type": "stream",
     "text": [
      "¡Nada que ver aquí!\n"
     ]
    }
   ],
   "source": [
    "asteroide = 19\n",
    "if asteroide >= 20:\n",
    "    print('Advetencia')\n",
    "else:\n",
    "    print('¡Nada que ver aquí!')"
   ]
  },
  {
   "cell_type": "code",
   "execution_count": 3,
   "metadata": {},
   "outputs": [
    {
     "name": "stdout",
     "output_type": "stream",
     "text": [
      "Look up! ¡Hay una luz mágica en el cielo!\n"
     ]
    }
   ],
   "source": [
    "velocidad_asteroide = 25\n",
    "tamano_asteroide = 40\n",
    "if velocidad_asteroide > 25 and tamano_asteroide > 25:\n",
    "    print('¡Alerta, Un asteroide muy peligroso viene hacia la Tierra!')\n",
    "elif velocidad_asteroide >= 20:\n",
    "    print('Look up! ¡Hay una luz mágica en el cielo!')\n",
    "elif tamano_asteroide < 25:\n",
    "    print('Nada que ver aquí :)')\n",
    "else:\n",
    "    print('Nada que ver aquí :)')"
   ]
  }
 ],
 "metadata": {
  "interpreter": {
   "hash": "7e7abc61dd28127b0393548f8d2848eb5649dff8191e9a1d91c524947e170ef4"
  },
  "kernelspec": {
   "display_name": "Python 3.8.8 ('base')",
   "language": "python",
   "name": "python3"
  },
  "language_info": {
   "codemirror_mode": {
    "name": "ipython",
    "version": 3
   },
   "file_extension": ".py",
   "mimetype": "text/x-python",
   "name": "python",
   "nbconvert_exporter": "python",
   "pygments_lexer": "ipython3",
   "version": "3.8.8"
  },
  "orig_nbformat": 4
 },
 "nbformat": 4,
 "nbformat_minor": 2
}
